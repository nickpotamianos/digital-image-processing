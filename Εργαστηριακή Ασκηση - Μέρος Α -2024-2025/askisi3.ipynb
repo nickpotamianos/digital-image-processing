{
 "cells": [
  {
   "cell_type": "markdown",
   "metadata": {},
   "source": [
    "\n",
    "# <span style=\"color:rgb(213,80,0)\">exercise3\\_noise\\_filtering\\_tiger.m</span>\n",
    "\n",
    "Exercise 3 – Noise Filtering on tiger.mat\n",
    "\n",
    "<pre>\n",
    "1) Gaussian noise (SNR = 15 dB)  → mean & median filters\n",
    "2) Impulse noise  (20%)          → mean & median filters\n",
    "3) Combined noise (both types)   → mean→median and median→mean sequences\n",
    "</pre>\n",
    "\n",
    "Author: ANGELOS NIKOLAOS POTAMIANOS Date : MAY 2025\n",
    ""
   ]
  },
  {
   "cell_type": "code",
   "execution_count": 1,
   "metadata": {},
   "source": [
    "clear; close all; clc;"
   ],
   "outputs": []
  },
  {
   "cell_type": "markdown",
   "metadata": {},
   "source": [
    "## \\-\\-\\-\\-\\-\\-\\-\\-\\-\\-\\-\\-\\-\\-\\-\\-\\-\\-\\-\\-\\-\\-\\- PARAMETERS \\-\\-\\-\\-\\-\\-\\-\\-\\-\\-\\-\\-\\-\\-\\-\\-\\-\\-\\-\\-\\-\\-\\-\\-\\-\\-\\-\\-\\-\\-\\-\\-\\-\\-\\-\\-"
   ]
  },
  {
   "cell_type": "code",
   "execution_count": 2,
   "metadata": {},
   "source": [
    "data_path = fullfile('Images','Ασκηση 3','tiger.mat');   % .mat image\n",
    "SNRdB     = 15;            % Target SNR for Gaussian noise\n",
    "impulse_p = 0.20;          % 20% salt-and-pepper noise\n",
    "meanK     = 3;             % kernel size (must be odd)"
   ],
   "outputs": []
  },
  {
   "cell_type": "markdown",
   "metadata": {},
   "source": [
    "## \\-\\-\\-\\-\\-\\-\\-\\-\\- Load image \\-\\-\\-\\-\\-\\-\\-\\-\\-\\-\\-\\-\\-\\-\\-\\-\\-\\-\\-\\-\\-\\-\\-\\-\\-\\-\\-\\-\\-\\-\\-\\-\\-\\-\\-\\-\\-\\-\\-\\-\\-\\-\\-"
   ]
  },
  {
   "cell_type": "code",
   "execution_count": 3,
   "metadata": {},
   "source": [
    "fprintf('Loading image from %s...\\n', data_path);"
   ],
   "outputs": [
    {
     "data": {
      "text/plain": [
       "Loading image from Images\\Ασκηση 3\tiger.mat..."
      ]
     },
     "metadata": {},
     "execution_count":  3,
     "output_type": "execute_result"
    }
   ]
  },
  {
   "cell_type": "code",
   "execution_count": 4,
   "metadata": {},
   "source": [
    "d   = load(data_path);\n",
    "fns = fieldnames(d);       % Get field name dynamically\n",
    "I   = d.(fns{1});          % Access via variable name\n",
    "I   = double(I);\n",
    "\n",
    "% Scale to [0,255] if needed\n",
    "if max(I(:)) <= 1\n",
    "    I = I * 255;\n",
    "end\n",
    "Imax   = 255;\n",
    "isColor = (ndims(I)==3 && size(I,3)==3);\n",
    "\n",
    "if isColor\n",
    "    fprintf('Loaded color image of size %d x %d\\n', size(I,1), size(I,2));\n",
    "else\n",
    "    fprintf('Loaded grayscale image of size %d x %d\\n', size(I,1), size(I,2));\n",
    "end"
   ],
   "outputs": [
    {
     "data": {
      "text/plain": [
       "Loaded grayscale image of size 256 x 256"
      ]
     },
     "metadata": {},
     "execution_count":  4,
     "output_type": "execute_result"
    }
   ]
  },
  {
   "cell_type": "markdown",
   "metadata": {},
   "source": [
    "## \\-\\-\\-\\-\\-\\-\\-\\-\\- Helper functions \\-\\-\\-\\-\\-\\-\\-\\-\\-\\-\\-\\-\\-\\-\\-\\-\\-\\-\\-\\-\\-\\-\\-\\-\\-\\-\\-\\-\\-\\-\\-\\-\\-\\-\\-\\-\\-"
   ]
  },
  {
   "cell_type": "code",
   "execution_count": 5,
   "metadata": {},
   "source": [
    "mse_fun  = @(X,Y) mean((X(:)-Y(:)).^2);\n",
    "psnr_fun = @(X,Y) 10*log10(Imax^2 / mse_fun(X,Y));\n",
    "\n",
    "% Moving-average kernel & filters\n",
    "h = ones(meanK) / meanK^2;\n",
    "if isColor\n",
    "    mean_filter = @(img) cat(3, ...\n",
    "        imfilter(img(:,:,1), h, 'replicate'), ...\n",
    "        imfilter(img(:,:,2), h, 'replicate'), ...\n",
    "        imfilter(img(:,:,3), h, 'replicate'));\n",
    "    med_filter  = @(img) cat(3, ...\n",
    "        medfilt2(img(:,:,1), [meanK meanK]), ...\n",
    "        medfilt2(img(:,:,2), [meanK meanK]), ...\n",
    "        medfilt2(img(:,:,3), [meanK meanK]));\n",
    "else\n",
    "    mean_filter = @(img) imfilter(img, h, 'replicate');\n",
    "    med_filter  = @(img) medfilt2(img, [meanK meanK]);\n",
    "end"
   ],
   "outputs": []
  },
  {
   "cell_type": "markdown",
   "metadata": {},
   "source": [
    "## ========= CASE 1 : Gaussian noise ============================"
   ]
  },
  {
   "cell_type": "code",
   "execution_count": 6,
   "metadata": {},
   "source": [
    "fprintf('\\n--- CASE 1 : Gaussian noise (SNR %d dB) ---\\n', SNRdB);"
   ],
   "outputs": [
    {
     "data": {
      "text/plain": [
       "--- CASE 1 : Gaussian noise (SNR 15 dB) ---"
      ]
     },
     "metadata": {},
     "execution_count":  6,
     "output_type": "execute_result"
    }
   ]
  },
  {
   "cell_type": "code",
   "execution_count": 7,
   "metadata": {},
   "source": [
    "\n",
    "% Calculate noise variance to achieve target SNR\n",
    "signal_power = var(I(:));\n",
    "noise_var    = signal_power / 10^(SNRdB/10);\n",
    "fprintf('Signal power: %.2f, Noise variance: %.2f\\n', signal_power, noise_var);"
   ],
   "outputs": [
    {
     "data": {
      "text/plain": [
       "Signal power: 4599.36, Noise variance: 145.44"
      ]
     },
     "metadata": {},
     "execution_count":  7,
     "output_type": "execute_result"
    }
   ]
  },
  {
   "cell_type": "code",
   "execution_count": 8,
   "metadata": {},
   "source": [
    "\n",
    "% Add Gaussian noise\n",
    "rng(42); % For reproducibility\n",
    "noise = sqrt(noise_var).*randn(size(I));\n",
    "I_gauss = I + noise;\n",
    "I_gauss = min(max(I_gauss,0), Imax);  % Clip to valid range\n",
    "\n",
    "% Verify actual SNR\n",
    "actual_SNR = 10*log10(var(I(:))/var(noise(:)));\n",
    "fprintf('Actual SNR: %.2f dB\\n', actual_SNR);"
   ],
   "outputs": [
    {
     "data": {
      "text/plain": [
       "Actual SNR: 14.98 dB"
      ]
     },
     "metadata": {},
     "execution_count":  8,
     "output_type": "execute_result"
    }
   ]
  },
  {
   "cell_type": "code",
   "execution_count": 9,
   "metadata": {},
   "source": [
    "\n",
    "% Apply filters\n",
    "I_gauss_mean = mean_filter(I_gauss);\n",
    "I_gauss_med  = med_filter(I_gauss);\n",
    "\n",
    "% Calculate metrics\n",
    "mse_gauss = mse_fun(I, I_gauss);\n",
    "psnr_gauss = psnr_fun(I, I_gauss);\n",
    "\n",
    "mse_gauss_mean = mse_fun(I, I_gauss_mean);\n",
    "psnr_gauss_mean = psnr_fun(I, I_gauss_mean);\n",
    "\n",
    "mse_gauss_med = mse_fun(I, I_gauss_med);\n",
    "psnr_gauss_med = psnr_fun(I, I_gauss_med);\n",
    "\n",
    "% Display results in table format\n",
    "fprintf('+-----------------+--------+-----------+\\n');"
   ],
   "outputs": [
    {
     "data": {
      "text/plain": [
       "+-----------------+--------+-----------+"
      ]
     },
     "metadata": {},
     "execution_count":  9,
     "output_type": "execute_result"
    }
   ]
  },
  {
   "cell_type": "code",
   "execution_count": 10,
   "metadata": {},
   "source": [
    "fprintf('| Filter          | MSE    | PSNR (dB) |\\n');"
   ],
   "outputs": [
    {
     "data": {
      "text/plain": [
       "| Filter          | MSE    | PSNR (dB) |"
      ]
     },
     "metadata": {},
     "execution_count":  10,
     "output_type": "execute_result"
    }
   ]
  },
  {
   "cell_type": "code",
   "execution_count": 11,
   "metadata": {},
   "source": [
    "fprintf('+-----------------+--------+-----------+\\n');"
   ],
   "outputs": [
    {
     "data": {
      "text/plain": [
       "+-----------------+--------+-----------+"
      ]
     },
     "metadata": {},
     "execution_count":  11,
     "output_type": "execute_result"
    }
   ]
  },
  {
   "cell_type": "code",
   "execution_count": 12,
   "metadata": {},
   "source": [
    "fprintf('| Noisy image     | %6.2f | %9.2f |\\n', mse_gauss, psnr_gauss);"
   ],
   "outputs": [
    {
     "data": {
      "text/plain": [
       "| Noisy image     | 138.61 |     26.71 |"
      ]
     },
     "metadata": {},
     "execution_count":  12,
     "output_type": "execute_result"
    }
   ]
  },
  {
   "cell_type": "code",
   "execution_count": 13,
   "metadata": {},
   "source": [
    "fprintf('| Mean filter     | %6.2f | %9.2f |\\n', mse_gauss_mean, psnr_gauss_mean);"
   ],
   "outputs": [
    {
     "data": {
      "text/plain": [
       "| Mean filter     | 395.47 |     22.16 |"
      ]
     },
     "metadata": {},
     "execution_count":  13,
     "output_type": "execute_result"
    }
   ]
  },
  {
   "cell_type": "code",
   "execution_count": 14,
   "metadata": {},
   "source": [
    "fprintf('| Median filter   | %6.2f | %9.2f |\\n', mse_gauss_med, psnr_gauss_med);"
   ],
   "outputs": [
    {
     "data": {
      "text/plain": [
       "| Median filter   | 322.90 |     23.04 |"
      ]
     },
     "metadata": {},
     "execution_count":  14,
     "output_type": "execute_result"
    }
   ]
  },
  {
   "cell_type": "code",
   "execution_count": 15,
   "metadata": {},
   "source": [
    "fprintf('+-----------------+--------+-----------+\\n');"
   ],
   "outputs": [
    {
     "data": {
      "text/plain": [
       "+-----------------+--------+-----------+"
      ]
     },
     "metadata": {},
     "execution_count":  15,
     "output_type": "execute_result"
    }
   ]
  },
  {
   "cell_type": "code",
   "execution_count": 16,
   "metadata": {},
   "source": [
    "fprintf('Improvement: Mean filter: %.2f dB, Median filter: %.2f dB\\n',psnr_gauss_mean - psnr_gauss, psnr_gauss_med - psnr_gauss);"
   ],
   "outputs": [
    {
     "data": {
      "text/plain": [
       "Improvement: Mean filter: -4.55 dB, Median filter: -3.67 dB"
      ]
     },
     "metadata": {},
     "execution_count":  16,
     "output_type": "execute_result"
    }
   ]
  },
  {
   "cell_type": "markdown",
   "metadata": {},
   "source": [
    "## ========= CASE 2 : Impulse noise ============================="
   ]
  },
  {
   "cell_type": "code",
   "execution_count": 17,
   "metadata": {},
   "source": [
    "fprintf('\\n--- CASE 2 : %d%% salt & pepper noise ---\\n', impulse_p*100);"
   ],
   "outputs": [
    {
     "data": {
      "text/plain": [
       "--- CASE 2 : 20% salt & pepper noise ---"
      ]
     },
     "metadata": {},
     "execution_count":  17,
     "output_type": "execute_result"
    }
   ]
  },
  {
   "cell_type": "code",
   "execution_count": 18,
   "metadata": {},
   "source": [
    "\n",
    "% Add impulse noise\n",
    "rng(42); % For reproducibility\n",
    "I_imp = double(imnoise(uint8(I), 'salt & pepper', impulse_p));\n",
    "\n",
    "% Apply filters\n",
    "I_imp_mean = mean_filter(I_imp);\n",
    "I_imp_med  = med_filter(I_imp);\n",
    "\n",
    "% Calculate metrics\n",
    "mse_imp = mse_fun(I, I_imp);\n",
    "psnr_imp = psnr_fun(I, I_imp);\n",
    "\n",
    "mse_imp_mean = mse_fun(I, I_imp_mean);\n",
    "psnr_imp_mean = psnr_fun(I, I_imp_mean);\n",
    "\n",
    "mse_imp_med = mse_fun(I, I_imp_med);\n",
    "psnr_imp_med = psnr_fun(I, I_imp_med);\n",
    "\n",
    "% Display results in table format\n",
    "fprintf('+-----------------+--------+-----------+\\n');"
   ],
   "outputs": [
    {
     "data": {
      "text/plain": [
       "+-----------------+--------+-----------+"
      ]
     },
     "metadata": {},
     "execution_count":  18,
     "output_type": "execute_result"
    }
   ]
  },
  {
   "cell_type": "code",
   "execution_count": 19,
   "metadata": {},
   "source": [
    "fprintf('| Filter          | MSE    | PSNR (dB) |\\n');"
   ],
   "outputs": [
    {
     "data": {
      "text/plain": [
       "| Filter          | MSE    | PSNR (dB) |"
      ]
     },
     "metadata": {},
     "execution_count":  19,
     "output_type": "execute_result"
    }
   ]
  },
  {
   "cell_type": "code",
   "execution_count": 20,
   "metadata": {},
   "source": [
    "fprintf('+-----------------+--------+-----------+\\n');"
   ],
   "outputs": [
    {
     "data": {
      "text/plain": [
       "+-----------------+--------+-----------+"
      ]
     },
     "metadata": {},
     "execution_count":  20,
     "output_type": "execute_result"
    }
   ]
  },
  {
   "cell_type": "code",
   "execution_count": 21,
   "metadata": {},
   "source": [
    "fprintf('| Noisy image     | %6.2f | %9.2f |\\n', mse_imp, psnr_imp);"
   ],
   "outputs": [
    {
     "data": {
      "text/plain": [
       "| Noisy image     | 4523.69 |     11.58 |"
      ]
     },
     "metadata": {},
     "execution_count":  21,
     "output_type": "execute_result"
    }
   ]
  },
  {
   "cell_type": "code",
   "execution_count": 22,
   "metadata": {},
   "source": [
    "fprintf('| Mean filter     | %6.2f | %9.2f |\\n', mse_imp_mean, psnr_imp_mean);"
   ],
   "outputs": [
    {
     "data": {
      "text/plain": [
       "| Mean filter     | 1210.85 |     17.30 |"
      ]
     },
     "metadata": {},
     "execution_count":  22,
     "output_type": "execute_result"
    }
   ]
  },
  {
   "cell_type": "code",
   "execution_count": 23,
   "metadata": {},
   "source": [
    "fprintf('| Median filter   | %6.2f | %9.2f |\\n', mse_imp_med, psnr_imp_med);"
   ],
   "outputs": [
    {
     "data": {
      "text/plain": [
       "| Median filter   | 583.10 |     20.47 |"
      ]
     },
     "metadata": {},
     "execution_count":  23,
     "output_type": "execute_result"
    }
   ]
  },
  {
   "cell_type": "code",
   "execution_count": 24,
   "metadata": {},
   "source": [
    "fprintf('+-----------------+--------+-----------+\\n');"
   ],
   "outputs": [
    {
     "data": {
      "text/plain": [
       "+-----------------+--------+-----------+"
      ]
     },
     "metadata": {},
     "execution_count":  24,
     "output_type": "execute_result"
    }
   ]
  },
  {
   "cell_type": "code",
   "execution_count": 25,
   "metadata": {},
   "source": [
    "fprintf('Improvement: Mean filter: %.2f dB, Median filter: %.2f dB\\n', psnr_imp_mean - psnr_imp, psnr_imp_med - psnr_imp);"
   ],
   "outputs": [
    {
     "data": {
      "text/plain": [
       "Improvement: Mean filter: 5.72 dB, Median filter: 8.90 dB"
      ]
     },
     "metadata": {},
     "execution_count":  25,
     "output_type": "execute_result"
    }
   ]
  },
  {
   "cell_type": "markdown",
   "metadata": {},
   "source": [
    "## ======== CASE 3 : Gaussian + Impulse noise ======================"
   ]
  },
  {
   "cell_type": "code",
   "execution_count": 26,
   "metadata": {},
   "source": [
    "fprintf('\\n--- CASE 3 : Gaussian (%d dB) + %d%% impulse ---\\n', SNRdB, impulse_p*100);"
   ],
   "outputs": [
    {
     "data": {
      "text/plain": [
       "--- CASE 3 : Gaussian (15 dB) + 20% impulse ---"
      ]
     },
     "metadata": {},
     "execution_count":  26,
     "output_type": "execute_result"
    }
   ]
  },
  {
   "cell_type": "code",
   "execution_count": 27,
   "metadata": {},
   "source": [
    "\n",
    "% Add combined noise (Gaussian followed by impulse)\n",
    "I_combo = double(imnoise(uint8(I_gauss), 'salt & pepper', impulse_p));\n",
    "\n",
    "% Apply individual filters for comparison\n",
    "I_combo_mean = mean_filter(I_combo);\n",
    "I_combo_med = med_filter(I_combo);\n",
    "\n",
    "% Apply filter sequences in both orders\n",
    "I_mm = med_filter(mean_filter(I_combo));  % mean → median\n",
    "I_mM = mean_filter(med_filter(I_combo));  % median → mean\n",
    "\n",
    "% Calculate metrics\n",
    "mse_combo = mse_fun(I, I_combo);\n",
    "psnr_combo = psnr_fun(I, I_combo);\n",
    "\n",
    "mse_combo_mean = mse_fun(I, I_combo_mean);\n",
    "psnr_combo_mean = psnr_fun(I, I_combo_mean);\n",
    "\n",
    "mse_combo_med = mse_fun(I, I_combo_med);\n",
    "psnr_combo_med = psnr_fun(I, I_combo_med);\n",
    "\n",
    "mse_mm = mse_fun(I, I_mm);\n",
    "psnr_mm = psnr_fun(I, I_mm);\n",
    "\n",
    "mse_mM = mse_fun(I, I_mM);\n",
    "psnr_mM = psnr_fun(I, I_mM);\n",
    "\n",
    "% Display results in table format\n",
    "fprintf('+------------------+--------+-----------+\\n');"
   ],
   "outputs": [
    {
     "data": {
      "text/plain": [
       "+------------------+--------+-----------+"
      ]
     },
     "metadata": {},
     "execution_count":  27,
     "output_type": "execute_result"
    }
   ]
  },
  {
   "cell_type": "code",
   "execution_count": 28,
   "metadata": {},
   "source": [
    "fprintf('| Filter           | MSE    | PSNR (dB) |\\n');"
   ],
   "outputs": [
    {
     "data": {
      "text/plain": [
       "| Filter           | MSE    | PSNR (dB) |"
      ]
     },
     "metadata": {},
     "execution_count":  28,
     "output_type": "execute_result"
    }
   ]
  },
  {
   "cell_type": "code",
   "execution_count": 29,
   "metadata": {},
   "source": [
    "fprintf('+------------------+--------+-----------+\\n');"
   ],
   "outputs": [
    {
     "data": {
      "text/plain": [
       "+------------------+--------+-----------+"
      ]
     },
     "metadata": {},
     "execution_count":  29,
     "output_type": "execute_result"
    }
   ]
  },
  {
   "cell_type": "code",
   "execution_count": 30,
   "metadata": {},
   "source": [
    "fprintf('| Noisy image      | %6.2f | %9.2f |\\n', mse_combo, psnr_combo);"
   ],
   "outputs": [
    {
     "data": {
      "text/plain": [
       "| Noisy image      | 4643.99 |     11.46 |"
      ]
     },
     "metadata": {},
     "execution_count":  30,
     "output_type": "execute_result"
    }
   ]
  },
  {
   "cell_type": "code",
   "execution_count": 31,
   "metadata": {},
   "source": [
    "fprintf('| Mean only        | %6.2f | %9.2f |\\n', mse_combo_mean, psnr_combo_mean);"
   ],
   "outputs": [
    {
     "data": {
      "text/plain": [
       "| Mean only        | 1239.55 |     17.20 |"
      ]
     },
     "metadata": {},
     "execution_count":  31,
     "output_type": "execute_result"
    }
   ]
  },
  {
   "cell_type": "code",
   "execution_count": 32,
   "metadata": {},
   "source": [
    "fprintf('| Median only      | %6.2f | %9.2f |\\n', mse_combo_med, psnr_combo_med);"
   ],
   "outputs": [
    {
     "data": {
      "text/plain": [
       "| Median only      | 617.89 |     20.22 |"
      ]
     },
     "metadata": {},
     "execution_count":  32,
     "output_type": "execute_result"
    }
   ]
  },
  {
   "cell_type": "code",
   "execution_count": 33,
   "metadata": {},
   "source": [
    "fprintf('| Mean → Median    | %6.2f | %9.2f |\\n', mse_mm, psnr_mm);"
   ],
   "outputs": [
    {
     "data": {
      "text/plain": [
       "| Mean → Median    | 1257.11 |     17.14 |"
      ]
     },
     "metadata": {},
     "execution_count":  33,
     "output_type": "execute_result"
    }
   ]
  },
  {
   "cell_type": "code",
   "execution_count": 34,
   "metadata": {},
   "source": [
    "fprintf('| Median → Mean    | %6.2f | %9.2f |\\n', mse_mM, psnr_mM);"
   ],
   "outputs": [
    {
     "data": {
      "text/plain": [
       "| Median → Mean    | 717.44 |     19.57 |"
      ]
     },
     "metadata": {},
     "execution_count":  34,
     "output_type": "execute_result"
    }
   ]
  },
  {
   "cell_type": "code",
   "execution_count": 35,
   "metadata": {},
   "source": [
    "fprintf('+------------------+--------+-----------+\\n');"
   ],
   "outputs": [
    {
     "data": {
      "text/plain": [
       "+------------------+--------+-----------+"
      ]
     },
     "metadata": {},
     "execution_count":  35,
     "output_type": "execute_result"
    }
   ]
  },
  {
   "cell_type": "code",
   "execution_count": 36,
   "metadata": {},
   "source": [
    "\n",
    "% Find best method\n",
    "[best_psnr, best_idx] = max([psnr_combo_mean, psnr_combo_med, psnr_mm, psnr_mM]);\n",
    "methods = {'Mean only', 'Median only', 'Mean → Median', 'Median → Mean'};\n",
    "fprintf('Best method: %s (PSNR: %.2f dB)\\n', methods{best_idx}, best_psnr);"
   ],
   "outputs": [
    {
     "data": {
      "text/plain": [
       "Best method: Median only (PSNR: 20.22 dB)"
      ]
     },
     "metadata": {},
     "execution_count":  36,
     "output_type": "execute_result"
    }
   ]
  },
  {
   "cell_type": "code",
   "execution_count": 37,
   "metadata": {},
   "source": [
    "fprintf('Improvement over noisy image: %.2f dB\\n', best_psnr - psnr_combo);"
   ],
   "outputs": [
    {
     "data": {
      "text/plain": [
       "Improvement over noisy image: 8.76 dB"
      ]
     },
     "metadata": {},
     "execution_count":  37,
     "output_type": "execute_result"
    }
   ]
  },
  {
   "cell_type": "markdown",
   "metadata": {},
   "source": [
    "## \\-\\-\\-\\-\\-\\-\\-\\-\\-\\-\\-\\-\\-\\-\\-\\-\\-\\- Display results \\-\\-\\-\\-\\-\\-\\-\\-\\-\\-\\-\\-\\-\\-\\-\\-\\-\\-\\-\\-\\-\\-\\-\\-\\-\\-\\-\\-\\-\n",
    "\n",
    "Create a comprehensive figure for all results\n",
    ""
   ]
  },
  {
   "cell_type": "code",
   "execution_count": 38,
   "metadata": {},
   "source": [
    "figure('Name', 'Noise Filtering Results', 'Position', [50, 50, 1200, 800]);\n",
    "\n",
    "% Original image\n",
    "subplot(3,4,1), imshow(uint8(I)), title('Original');\n",
    "\n",
    "% Case 1: Gaussian\n",
    "subplot(3,4,2), imshow(uint8(I_gauss)), title(sprintf('Gaussian (SNR: %.1f dB)', actual_SNR));\n",
    "subplot(3,4,3), imshow(uint8(I_gauss_mean)), title(sprintf('Mean filter\\nPSNR: %.1f dB', psnr_gauss_mean));\n",
    "subplot(3,4,4), imshow(uint8(I_gauss_med)), title(sprintf('Median filter\\nPSNR: %.1f dB', psnr_gauss_med));\n",
    "\n",
    "% Case 2: Impulse\n",
    "subplot(3,4,5), imshow(uint8(I_imp)), title(sprintf('Impulse (%.0f%%)', impulse_p*100));\n",
    "subplot(3,4,6), imshow(uint8(I_imp_mean)), title(sprintf('Mean filter\\nPSNR: %.1f dB', psnr_imp_mean));\n",
    "subplot(3,4,7), imshow(uint8(I_imp_med)), title(sprintf('Median filter\\nPSNR: %.1f dB', psnr_imp_med));\n",
    "\n",
    "% Case 3: Combined\n",
    "subplot(3,4,8), imshow(uint8(I_combo)), title('Combined noise');\n",
    "subplot(3,4,9), imshow(uint8(I_combo_mean)), title(sprintf('Mean only\\nPSNR: %.1f dB', psnr_combo_mean));\n",
    "subplot(3,4,10), imshow(uint8(I_combo_med)), title(sprintf('Median only\\nPSNR: %.1f dB', psnr_combo_med));\n",
    "subplot(3,4,11), imshow(uint8(I_mm)), title(sprintf('Mean→Median\\nPSNR: %.1f dB', psnr_mm));\n",
    "subplot(3,4,12), imshow(uint8(I_mM)), title(sprintf('Median→Mean\\nPSNR: %.1f dB', psnr_mM));"
   ],
   "outputs": [
    {
     "data": {
      "text/html": [
       "<center><img src=\"data:image/png;base64,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\" width=\"535\" alt=\"figure_0.png\"></center>"
      ]
     },
     "metadata": {},
     "execution_count":  38,
     "output_type": "execute_result"
    }
   ]
  },
  {
   "cell_type": "code",
   "execution_count": 39,
   "metadata": {},
   "source": [
    "\n",
    "% Create an additional figure to highlight differences\n",
    "figure('Name', 'Difference Images', 'Position', [50, 50, 1200, 400]);\n",
    "\n",
    "% Error maps (scaled for visualization)\n",
    "subplot(2,4,1), imshow(abs(I - I_gauss) / 50), title('Gaussian Noise Error');\n",
    "subplot(2,4,2), imshow(abs(I - I_gauss_mean) / 50), title('After Mean Filter');\n",
    "subplot(2,4,3), imshow(abs(I - I_gauss_med) / 50), title('After Median Filter');\n",
    "subplot(2,4,4), imshow(abs(I_gauss_mean - I_gauss_med) / 50), title('Mean vs Median');\n",
    "\n",
    "% Error maps for combined noise\n",
    "subplot(2,4,5), imshow(abs(I - I_combo) / 50), title('Combined Noise Error');\n",
    "subplot(2,4,6), imshow(abs(I - I_mm) / 50), title('After Mean→Median');\n",
    "subplot(2,4,7), imshow(abs(I - I_mM) / 50), title('After Median→Mean');\n",
    "subplot(2,4,8), imshow(abs(I_mm - I_mM) / 50), title('Sequence Difference');"
   ],
   "outputs": [
    {
     "data": {
      "text/html": [
       "<center><img src=\"data:image/png;base64,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\" width=\"535\" alt=\"figure_1.png\"></center>"
      ]
     },
     "metadata": {},
     "execution_count":  39,
     "output_type": "execute_result"
    }
   ]
  },
  {
   "cell_type": "code",
   "execution_count": 40,
   "metadata": {},
   "source": [
    "\n",
    "fprintf('\\n========== ANALYSIS ==========\\n');"
   ],
   "outputs": [
    {
     "data": {
      "text/plain": [
       "========== ANALYSIS =========="
      ]
     },
     "metadata": {},
     "execution_count":  40,
     "output_type": "execute_result"
    }
   ]
  },
  {
   "cell_type": "code",
   "execution_count": 41,
   "metadata": {},
   "source": [
    "fprintf('1. Gaussian Noise: %s is more effective\\n',ternary(psnr_gauss_mean > psnr_gauss_med, 'Mean filter', 'Median filter'));"
   ],
   "outputs": [
    {
     "data": {
      "text/plain": [
       "1. Gaussian Noise: Median filter is more effective"
      ]
     },
     "metadata": {},
     "execution_count":  41,
     "output_type": "execute_result"
    }
   ]
  },
  {
   "cell_type": "code",
   "execution_count": 42,
   "metadata": {},
   "source": [
    "fprintf('2. Impulse Noise: %s is more effective\\n',ternary(psnr_imp_mean > psnr_imp_med, 'Mean filter', 'Median filter'));"
   ],
   "outputs": [
    {
     "data": {
      "text/plain": [
       "2. Impulse Noise: Median filter is more effective"
      ]
     },
     "metadata": {},
     "execution_count":  42,
     "output_type": "execute_result"
    }
   ]
  },
  {
   "cell_type": "code",
   "execution_count": 43,
   "metadata": {},
   "source": [
    "fprintf('3. Combined Noise: %s provides the best results\\n', methods{best_idx});"
   ],
   "outputs": [
    {
     "data": {
      "text/plain": [
       "3. Combined Noise: Median only provides the best results"
      ]
     },
     "metadata": {},
     "execution_count":  43,
     "output_type": "execute_result"
    }
   ]
  },
  {
   "cell_type": "code",
   "execution_count": 44,
   "metadata": {},
   "source": [
    "fprintf('==================================\\n');"
   ],
   "outputs": [
    {
     "data": {
      "text/plain": [
       "=================================="
      ]
     },
     "metadata": {},
     "execution_count":  44,
     "output_type": "execute_result"
    }
   ]
  },
  {
   "cell_type": "markdown",
   "metadata": {},
   "source": [
    "## Simple ternary operator helper"
   ]
  },
  {
   "cell_type": "code",
   "execution_count": 45,
   "metadata": {},
   "source": [
    "function result = ternary(condition, true_val, false_val)\n",
    "    if condition\n",
    "        result = true_val;\n",
    "    else\n",
    "        result = false_val;\n",
    "    end\n",
    "end"
   ],
   "outputs": []
}
 ],
 "metadata": {
  "kernelspec": {
   "display_name": "MATLAB (matlabkernel)",
   "language": "matlab",
   "name": "matlab"
  },
  "language_info": {
   "file_extension": ".m",
   "mimetype": "text/matlab",
   "name": "matlab",
   "nbconvert_exporter": "matlab",
   "pygments_lexer": "matlab",
   "version": "24.2.0.2923080"
  }
 },
 "nbformat": 4,
 "nbformat_minor": 4
}